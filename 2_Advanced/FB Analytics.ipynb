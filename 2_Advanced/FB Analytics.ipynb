{
 "cells": [
  {
   "cell_type": "code",
   "execution_count": 1,
   "id": "0f0c8e41",
   "metadata": {},
   "outputs": [],
   "source": [
    "import pandas as pd\n",
    "from datasets import load_dataset \n",
    "import matplotlib.pyplot as plt\n",
    "\n",
    "df = pd.read_csv('/Users/justinbailey/Documents/VSCode/Python/Datasets/Apr-01-2025_May-21-2025_2796785830507164.csv')"
   ]
  },
  {
   "cell_type": "code",
   "execution_count": 2,
   "id": "3bd48fd7",
   "metadata": {},
   "outputs": [],
   "source": [
    "df= df.drop(columns=['Page ID', 'Description', 'Caption type', 'Permalink', 'IMPRESSION:UNIQUE_USERS', 'Is crosspost','Is share', 'Negative feedback from users: Hide all' ])\n"
   ]
  },
  {
   "cell_type": "code",
   "execution_count": 3,
   "id": "69b60780",
   "metadata": {},
   "outputs": [
    {
     "name": "stdout",
     "output_type": "stream",
     "text": [
      "<class 'pandas.core.frame.DataFrame'>\n",
      "RangeIndex: 28 entries, 0 to 27\n",
      "Data columns (total 21 columns):\n",
      " #   Column                                                Non-Null Count  Dtype  \n",
      "---  ------                                                --------------  -----  \n",
      " 0   Post ID                                               28 non-null     int64  \n",
      " 1   Page name                                             28 non-null     object \n",
      " 2   Title                                                 28 non-null     object \n",
      " 3   Duration (sec)                                        28 non-null     int64  \n",
      " 4   Publish time                                          28 non-null     object \n",
      " 5   Post type                                             28 non-null     object \n",
      " 6   Languages                                             0 non-null      float64\n",
      " 7   Custom labels                                         0 non-null      float64\n",
      " 8   Funded content status                                 0 non-null      float64\n",
      " 9   Data comment                                          0 non-null      float64\n",
      " 10  Date                                                  28 non-null     object \n",
      " 11  Views                                                 27 non-null     float64\n",
      " 12  Reach                                                 27 non-null     float64\n",
      " 13  Reactions, Comments and Shares                        27 non-null     float64\n",
      " 14  Reactions                                             27 non-null     float64\n",
      " 15  Comments                                              27 non-null     float64\n",
      " 16  Shares                                                27 non-null     float64\n",
      " 17  Total clicks                                          27 non-null     float64\n",
      " 18  Matched Audience Targeting Consumption (Photo Click)  24 non-null     float64\n",
      " 19  Other Clicks                                          27 non-null     float64\n",
      " 20  Link Clicks                                           16 non-null     float64\n",
      "dtypes: float64(14), int64(2), object(5)\n",
      "memory usage: 4.7+ KB\n"
     ]
    }
   ],
   "source": [
    "df.info()"
   ]
  },
  {
   "cell_type": "code",
   "execution_count": 4,
   "id": "0abc91e7",
   "metadata": {},
   "outputs": [],
   "source": [
    "columns_to_drop = df.columns[[0, 1, 6, 7, 8, 9, 10]]\n"
   ]
  },
  {
   "cell_type": "code",
   "execution_count": 5,
   "id": "73dc3d67",
   "metadata": {},
   "outputs": [],
   "source": [
    "df = df.drop(columns=columns_to_drop)"
   ]
  },
  {
   "cell_type": "code",
   "execution_count": 6,
   "id": "c4830935",
   "metadata": {},
   "outputs": [],
   "source": [
    "df['Publish time'] = pd.to_datetime(df['Publish time'])"
   ]
  },
  {
   "cell_type": "code",
   "execution_count": 7,
   "id": "3662d4a3",
   "metadata": {},
   "outputs": [
    {
     "name": "stdout",
     "output_type": "stream",
     "text": [
      "<class 'pandas.core.frame.DataFrame'>\n",
      "RangeIndex: 28 entries, 0 to 27\n",
      "Data columns (total 14 columns):\n",
      " #   Column                                                Non-Null Count  Dtype         \n",
      "---  ------                                                --------------  -----         \n",
      " 0   Title                                                 28 non-null     object        \n",
      " 1   Duration (sec)                                        28 non-null     int64         \n",
      " 2   Publish time                                          28 non-null     datetime64[ns]\n",
      " 3   Post type                                             28 non-null     object        \n",
      " 4   Views                                                 27 non-null     float64       \n",
      " 5   Reach                                                 27 non-null     float64       \n",
      " 6   Reactions, Comments and Shares                        27 non-null     float64       \n",
      " 7   Reactions                                             27 non-null     float64       \n",
      " 8   Comments                                              27 non-null     float64       \n",
      " 9   Shares                                                27 non-null     float64       \n",
      " 10  Total clicks                                          27 non-null     float64       \n",
      " 11  Matched Audience Targeting Consumption (Photo Click)  24 non-null     float64       \n",
      " 12  Other Clicks                                          27 non-null     float64       \n",
      " 13  Link Clicks                                           16 non-null     float64       \n",
      "dtypes: datetime64[ns](1), float64(10), int64(1), object(2)\n",
      "memory usage: 3.2+ KB\n"
     ]
    }
   ],
   "source": [
    "df.info()"
   ]
  },
  {
   "cell_type": "code",
   "execution_count": 8,
   "id": "d058687f",
   "metadata": {},
   "outputs": [],
   "source": [
    "df['Day of The Week'] = df['Publish time'].dt.strftime('%a')"
   ]
  },
  {
   "cell_type": "code",
   "execution_count": 9,
   "id": "ff7b78b6",
   "metadata": {},
   "outputs": [],
   "source": [
    "df = df.drop(index=0)"
   ]
  },
  {
   "cell_type": "code",
   "execution_count": 10,
   "id": "9a0d4694",
   "metadata": {},
   "outputs": [
    {
     "data": {
      "text/html": [
       "<div>\n",
       "<style scoped>\n",
       "    .dataframe tbody tr th:only-of-type {\n",
       "        vertical-align: middle;\n",
       "    }\n",
       "\n",
       "    .dataframe tbody tr th {\n",
       "        vertical-align: top;\n",
       "    }\n",
       "\n",
       "    .dataframe thead th {\n",
       "        text-align: right;\n",
       "    }\n",
       "</style>\n",
       "<table border=\"1\" class=\"dataframe\">\n",
       "  <thead>\n",
       "    <tr style=\"text-align: right;\">\n",
       "      <th>Post type</th>\n",
       "      <th>Links</th>\n",
       "      <th>Photos</th>\n",
       "      <th>Text</th>\n",
       "    </tr>\n",
       "  </thead>\n",
       "  <tbody>\n",
       "    <tr>\n",
       "      <th>Post type</th>\n",
       "      <td>2.0</td>\n",
       "      <td>24.0</td>\n",
       "      <td>1.0</td>\n",
       "    </tr>\n",
       "    <tr>\n",
       "      <th>Reactions, Comments and Shares</th>\n",
       "      <td>31.5</td>\n",
       "      <td>54.0</td>\n",
       "      <td>63.0</td>\n",
       "    </tr>\n",
       "  </tbody>\n",
       "</table>\n",
       "</div>"
      ],
      "text/plain": [
       "Post type                       Links  Photos  Text\n",
       "Post type                         2.0    24.0   1.0\n",
       "Reactions, Comments and Shares   31.5    54.0  63.0"
      ]
     },
     "execution_count": 10,
     "metadata": {},
     "output_type": "execute_result"
    }
   ],
   "source": [
    "df_post_type_pivot = df.pivot_table(values=['Reactions, Comments and Shares'], columns=['Post type'], aggfunc={'Reactions, Comments and Shares': 'median', 'Post type': 'size'})\n",
    "df_post_type_pivot"
   ]
  },
  {
   "cell_type": "code",
   "execution_count": 11,
   "id": "086b3c63",
   "metadata": {},
   "outputs": [
    {
     "data": {
      "text/plain": [
       "(array([0, 1]),\n",
       " [Text(0, 0, 'Post type'), Text(1, 0, 'Reactions, Comments and Shares')])"
      ]
     },
     "execution_count": 11,
     "metadata": {},
     "output_type": "execute_result"
    },
    {
     "data": {
      "image/png": "[encoded data removed]",
      "text/plain": [
       "<Figure size 640x480 with 1 Axes>"
      ]
     },
     "metadata": {},
     "output_type": "display_data"
    }
   ],
   "source": [
    "colors = ['lightcoral', 'mediumseagreen', 'lightskyblue']\n",
    "\n",
    "df_post_type_pivot.plot(kind='bar', color=colors)\n",
    "plt.xticks(rotation= 0)"
   ]
  },
  {
   "cell_type": "code",
   "execution_count": 13,
   "id": "4a3feb8e",
   "metadata": {},
   "outputs": [
    {
     "name": "stdout",
     "output_type": "stream",
     "text": [
      "<class 'pandas.core.frame.DataFrame'>\n",
      "RangeIndex: 27 entries, 1 to 27\n",
      "Data columns (total 15 columns):\n",
      " #   Column                                                Non-Null Count  Dtype         \n",
      "---  ------                                                --------------  -----         \n",
      " 0   Title                                                 27 non-null     object        \n",
      " 1   Duration (sec)                                        27 non-null     int64         \n",
      " 2   Publish time                                          27 non-null     datetime64[ns]\n",
      " 3   Post type                                             27 non-null     object        \n",
      " 4   Views                                                 27 non-null     float64       \n",
      " 5   Reach                                                 27 non-null     float64       \n",
      " 6   Reactions, Comments and Shares                        27 non-null     float64       \n",
      " 7   Reactions                                             27 non-null     float64       \n",
      " 8   Comments                                              27 non-null     float64       \n",
      " 9   Shares                                                27 non-null     float64       \n",
      " 10  Total clicks                                          27 non-null     float64       \n",
      " 11  Matched Audience Targeting Consumption (Photo Click)  24 non-null     float64       \n",
      " 12  Other Clicks                                          27 non-null     float64       \n",
      " 13  Link Clicks                                           16 non-null     float64       \n",
      " 14  Day of The Week                                       27 non-null     object        \n",
      "dtypes: datetime64[ns](1), float64(10), int64(1), object(3)\n",
      "memory usage: 3.3+ KB\n"
     ]
    }
   ],
   "source": [
    "df.info()"
   ]
  },
  {
   "cell_type": "code",
   "execution_count": 14,
   "id": "e3defbc4",
   "metadata": {},
   "outputs": [],
   "source": [
    "df_engagement_by_day_of_week = df.pivot_table(values='Reactions, Comments and Shares', index='Day of The Week', aggfunc='sum')"
   ]
  },
  {
   "cell_type": "code",
   "execution_count": 16,
   "id": "ae477adc",
   "metadata": {},
   "outputs": [
    {
     "data": {
      "text/plain": [
       "<Axes: xlabel='Day of The Week'>"
      ]
     },
     "execution_count": 16,
     "metadata": {},
     "output_type": "execute_result"
    },
    {
     "data": {
      "image/png": "[encoded data removed]",
      "text/plain": [
       "<Figure size 640x480 with 1 Axes>"
      ]
     },
     "metadata": {},
     "output_type": "display_data"
    }
   ],
   "source": [
    "df_engagement_by_day_of_week.plot(kind='bar')"
   ]
  },
  {
   "cell_type": "code",
   "execution_count": null,
   "id": "368f7a3c",
   "metadata": {},
   "outputs": [],
   "source": []
  }
 ],
 "metadata": {
  "kernelspec": {
   "display_name": "advcourse",
   "language": "python",
   "name": "python3"
  },
  "language_info": {
   "codemirror_mode": {
    "name": "ipython",
    "version": 3
   },
   "file_extension": ".py",
   "mimetype": "text/x-python",
   "name": "python",
   "nbconvert_exporter": "python",
   "pygments_lexer": "ipython3",
   "version": "3.12.9"
  }
 },
 "nbformat": 4,
 "nbformat_minor": 5
}
