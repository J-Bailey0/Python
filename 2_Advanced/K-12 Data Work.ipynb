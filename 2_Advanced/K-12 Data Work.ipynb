{
 "cells": [
  {
   "cell_type": "code",
   "execution_count": 19,
   "id": "20775584",
   "metadata": {},
   "outputs": [],
   "source": [
    "import pandas as pd\n",
    "from datasets import load_dataset \n",
    "import matplotlib.pyplot as plt\n",
    "\n",
    "df = pd.read_csv('https://raw.githubusercontent.com/mafudge/datasets/refs/heads/master/exam-scores/exam-scores.csv')"
   ]
  },
  {
   "cell_type": "code",
   "execution_count": 20,
   "id": "3efa38da",
   "metadata": {},
   "outputs": [],
   "source": [
    "df['Percentage'] = df['Percentage'].str.slice(0, -1)\n",
    "df['Percentage'] = df['Percentage'].astype(float)\n",
    "df['Student_Score'] = df['Student_Score'].astype(int)"
   ]
  },
  {
   "cell_type": "code",
   "execution_count": 21,
   "id": "aeacc0c2",
   "metadata": {},
   "outputs": [
    {
     "data": {
      "text/html": [
       "<div>\n",
       "<style scoped>\n",
       "    .dataframe tbody tr th:only-of-type {\n",
       "        vertical-align: middle;\n",
       "    }\n",
       "\n",
       "    .dataframe tbody tr th {\n",
       "        vertical-align: top;\n",
       "    }\n",
       "\n",
       "    .dataframe thead th {\n",
       "        text-align: right;\n",
       "    }\n",
       "</style>\n",
       "<table border=\"1\" class=\"dataframe\">\n",
       "  <thead>\n",
       "    <tr style=\"text-align: right;\">\n",
       "      <th></th>\n",
       "      <th>Class_Section</th>\n",
       "      <th>Exam_Version</th>\n",
       "      <th>Completion_Time</th>\n",
       "      <th>Made_Own_Study_Guide</th>\n",
       "      <th>Did_Exam_Prep Assignment</th>\n",
       "      <th>Studied_In_Groups</th>\n",
       "      <th>Student_Score</th>\n",
       "      <th>Percentage</th>\n",
       "      <th>Letter_Grade</th>\n",
       "    </tr>\n",
       "  </thead>\n",
       "  <tbody>\n",
       "    <tr>\n",
       "      <th>0</th>\n",
       "      <td>M01</td>\n",
       "      <td>A</td>\n",
       "      <td>20</td>\n",
       "      <td>N</td>\n",
       "      <td>N</td>\n",
       "      <td>Y</td>\n",
       "      <td>24</td>\n",
       "      <td>80.0</td>\n",
       "      <td>B</td>\n",
       "    </tr>\n",
       "    <tr>\n",
       "      <th>1</th>\n",
       "      <td>M01</td>\n",
       "      <td>A</td>\n",
       "      <td>20</td>\n",
       "      <td>?</td>\n",
       "      <td>?</td>\n",
       "      <td>?</td>\n",
       "      <td>27</td>\n",
       "      <td>90.0</td>\n",
       "      <td>A-</td>\n",
       "    </tr>\n",
       "    <tr>\n",
       "      <th>2</th>\n",
       "      <td>M01</td>\n",
       "      <td>A</td>\n",
       "      <td>30</td>\n",
       "      <td>Y</td>\n",
       "      <td>Y</td>\n",
       "      <td>Y</td>\n",
       "      <td>30</td>\n",
       "      <td>100.0</td>\n",
       "      <td>A</td>\n",
       "    </tr>\n",
       "    <tr>\n",
       "      <th>3</th>\n",
       "      <td>M01</td>\n",
       "      <td>A</td>\n",
       "      <td>50</td>\n",
       "      <td>N</td>\n",
       "      <td>Y</td>\n",
       "      <td>Y</td>\n",
       "      <td>18</td>\n",
       "      <td>60.0</td>\n",
       "      <td>C-</td>\n",
       "    </tr>\n",
       "    <tr>\n",
       "      <th>4</th>\n",
       "      <td>M01</td>\n",
       "      <td>A</td>\n",
       "      <td>55</td>\n",
       "      <td>Y</td>\n",
       "      <td>Y</td>\n",
       "      <td>N</td>\n",
       "      <td>24</td>\n",
       "      <td>80.0</td>\n",
       "      <td>B</td>\n",
       "    </tr>\n",
       "    <tr>\n",
       "      <th>...</th>\n",
       "      <td>...</td>\n",
       "      <td>...</td>\n",
       "      <td>...</td>\n",
       "      <td>...</td>\n",
       "      <td>...</td>\n",
       "      <td>...</td>\n",
       "      <td>...</td>\n",
       "      <td>...</td>\n",
       "      <td>...</td>\n",
       "    </tr>\n",
       "    <tr>\n",
       "      <th>60</th>\n",
       "      <td>M02</td>\n",
       "      <td>D</td>\n",
       "      <td>40</td>\n",
       "      <td>?</td>\n",
       "      <td>?</td>\n",
       "      <td>?</td>\n",
       "      <td>23</td>\n",
       "      <td>76.7</td>\n",
       "      <td>B-</td>\n",
       "    </tr>\n",
       "    <tr>\n",
       "      <th>61</th>\n",
       "      <td>M02</td>\n",
       "      <td>D</td>\n",
       "      <td>45</td>\n",
       "      <td>Y</td>\n",
       "      <td>Y</td>\n",
       "      <td>N</td>\n",
       "      <td>22</td>\n",
       "      <td>73.3</td>\n",
       "      <td>C+</td>\n",
       "    </tr>\n",
       "    <tr>\n",
       "      <th>62</th>\n",
       "      <td>M02</td>\n",
       "      <td>D</td>\n",
       "      <td>45</td>\n",
       "      <td>?</td>\n",
       "      <td>?</td>\n",
       "      <td>?</td>\n",
       "      <td>24</td>\n",
       "      <td>80.0</td>\n",
       "      <td>B</td>\n",
       "    </tr>\n",
       "    <tr>\n",
       "      <th>63</th>\n",
       "      <td>M02</td>\n",
       "      <td>D</td>\n",
       "      <td>55</td>\n",
       "      <td>Y</td>\n",
       "      <td>Y</td>\n",
       "      <td>N</td>\n",
       "      <td>24</td>\n",
       "      <td>80.0</td>\n",
       "      <td>B</td>\n",
       "    </tr>\n",
       "    <tr>\n",
       "      <th>64</th>\n",
       "      <td>M02</td>\n",
       "      <td>D</td>\n",
       "      <td>60</td>\n",
       "      <td>N</td>\n",
       "      <td>N</td>\n",
       "      <td>Y</td>\n",
       "      <td>24</td>\n",
       "      <td>80.0</td>\n",
       "      <td>B</td>\n",
       "    </tr>\n",
       "  </tbody>\n",
       "</table>\n",
       "<p>65 rows × 9 columns</p>\n",
       "</div>"
      ],
      "text/plain": [
       "   Class_Section Exam_Version  Completion_Time Made_Own_Study_Guide  \\\n",
       "0            M01            A               20                    N   \n",
       "1            M01            A               20                    ?   \n",
       "2            M01            A               30                    Y   \n",
       "3            M01            A               50                    N   \n",
       "4            M01            A               55                    Y   \n",
       "..           ...          ...              ...                  ...   \n",
       "60           M02            D               40                    ?   \n",
       "61           M02            D               45                    Y   \n",
       "62           M02            D               45                    ?   \n",
       "63           M02            D               55                    Y   \n",
       "64           M02            D               60                    N   \n",
       "\n",
       "   Did_Exam_Prep Assignment Studied_In_Groups  Student_Score  Percentage  \\\n",
       "0                         N                 Y             24        80.0   \n",
       "1                         ?                 ?             27        90.0   \n",
       "2                         Y                 Y             30       100.0   \n",
       "3                         Y                 Y             18        60.0   \n",
       "4                         Y                 N             24        80.0   \n",
       "..                      ...               ...            ...         ...   \n",
       "60                        ?                 ?             23        76.7   \n",
       "61                        Y                 N             22        73.3   \n",
       "62                        ?                 ?             24        80.0   \n",
       "63                        Y                 N             24        80.0   \n",
       "64                        N                 Y             24        80.0   \n",
       "\n",
       "   Letter_Grade  \n",
       "0             B  \n",
       "1            A-  \n",
       "2             A  \n",
       "3            C-  \n",
       "4             B  \n",
       "..          ...  \n",
       "60           B-  \n",
       "61           C+  \n",
       "62            B  \n",
       "63            B  \n",
       "64            B  \n",
       "\n",
       "[65 rows x 9 columns]"
      ]
     },
     "execution_count": 21,
     "metadata": {},
     "output_type": "execute_result"
    }
   ],
   "source": [
    "df"
   ]
  },
  {
   "cell_type": "code",
   "execution_count": 22,
   "id": "1e7dc375",
   "metadata": {},
   "outputs": [],
   "source": [
    "df_pivot = df.pivot_table(values=['Student_Score', 'Percentage'], index='Studied_In_Groups', aggfunc='median', columns='Made_Own_Study_Guide')"
   ]
  },
  {
   "cell_type": "code",
   "execution_count": 23,
   "id": "228bb5e3",
   "metadata": {},
   "outputs": [],
   "source": [
    "df_pivot_class_section = df.pivot_table(values=['Percentage','Made_Own_Study_Guide', 'Studied_In_Groups'], columns= 'Class_Section', index='Exam_Version', aggfunc={'Studied_In_Groups': 'size', 'Percentage': 'median', 'Made_Own_Study_Guide': 'size'})"
   ]
  },
  {
   "cell_type": "code",
   "execution_count": 24,
   "id": "ec0a4a64",
   "metadata": {},
   "outputs": [
    {
     "data": {
      "text/html": [
       "<div>\n",
       "<style scoped>\n",
       "    .dataframe tbody tr th:only-of-type {\n",
       "        vertical-align: middle;\n",
       "    }\n",
       "\n",
       "    .dataframe tbody tr th {\n",
       "        vertical-align: top;\n",
       "    }\n",
       "\n",
       "    .dataframe thead tr th {\n",
       "        text-align: left;\n",
       "    }\n",
       "\n",
       "    .dataframe thead tr:last-of-type th {\n",
       "        text-align: right;\n",
       "    }\n",
       "</style>\n",
       "<table border=\"1\" class=\"dataframe\">\n",
       "  <thead>\n",
       "    <tr>\n",
       "      <th></th>\n",
       "      <th colspan=\"2\" halign=\"left\">Made_Own_Study_Guide</th>\n",
       "      <th colspan=\"2\" halign=\"left\">Percentage</th>\n",
       "      <th colspan=\"2\" halign=\"left\">Studied_In_Groups</th>\n",
       "    </tr>\n",
       "    <tr>\n",
       "      <th>Class_Section</th>\n",
       "      <th>M01</th>\n",
       "      <th>M02</th>\n",
       "      <th>M01</th>\n",
       "      <th>M02</th>\n",
       "      <th>M01</th>\n",
       "      <th>M02</th>\n",
       "    </tr>\n",
       "    <tr>\n",
       "      <th>Exam_Version</th>\n",
       "      <th></th>\n",
       "      <th></th>\n",
       "      <th></th>\n",
       "      <th></th>\n",
       "      <th></th>\n",
       "      <th></th>\n",
       "    </tr>\n",
       "  </thead>\n",
       "  <tbody>\n",
       "    <tr>\n",
       "      <th>A</th>\n",
       "      <td>7</td>\n",
       "      <td>10</td>\n",
       "      <td>83.3</td>\n",
       "      <td>78.35</td>\n",
       "      <td>7</td>\n",
       "      <td>10</td>\n",
       "    </tr>\n",
       "    <tr>\n",
       "      <th>B</th>\n",
       "      <td>7</td>\n",
       "      <td>9</td>\n",
       "      <td>86.7</td>\n",
       "      <td>80.00</td>\n",
       "      <td>7</td>\n",
       "      <td>9</td>\n",
       "    </tr>\n",
       "    <tr>\n",
       "      <th>C</th>\n",
       "      <td>7</td>\n",
       "      <td>9</td>\n",
       "      <td>76.7</td>\n",
       "      <td>76.70</td>\n",
       "      <td>7</td>\n",
       "      <td>9</td>\n",
       "    </tr>\n",
       "    <tr>\n",
       "      <th>D</th>\n",
       "      <td>8</td>\n",
       "      <td>8</td>\n",
       "      <td>66.7</td>\n",
       "      <td>76.70</td>\n",
       "      <td>8</td>\n",
       "      <td>8</td>\n",
       "    </tr>\n",
       "  </tbody>\n",
       "</table>\n",
       "</div>"
      ],
      "text/plain": [
       "              Made_Own_Study_Guide     Percentage        Studied_In_Groups    \n",
       "Class_Section                  M01 M02        M01    M02               M01 M02\n",
       "Exam_Version                                                                  \n",
       "A                                7  10       83.3  78.35                 7  10\n",
       "B                                7   9       86.7  80.00                 7   9\n",
       "C                                7   9       76.7  76.70                 7   9\n",
       "D                                8   8       66.7  76.70                 8   8"
      ]
     },
     "execution_count": 24,
     "metadata": {},
     "output_type": "execute_result"
    }
   ],
   "source": [
    "df_pivot_class_section\n"
   ]
  },
  {
   "cell_type": "code",
   "execution_count": null,
   "id": "d912a9e5",
   "metadata": {},
   "outputs": [],
   "source": []
  },
  {
   "cell_type": "markdown",
   "id": "6df33abd",
   "metadata": {},
   "source": [
    "# Dining Information"
   ]
  },
  {
   "cell_type": "code",
   "execution_count": 25,
   "id": "24423f48",
   "metadata": {},
   "outputs": [],
   "source": [
    "df_dining = pd.read_csv('https://raw.githubusercontent.com/mafudge/datasets/refs/heads/master/dining/check-data.csv')\n",
    "df_dining['date'] = pd.to_datetime(df_dining['date'])\n",
    "df_dining['total amount of check'] = df_dining['total amount of check'].str.slice(1)\n",
    "df_dining['gratuity'] = df_dining['gratuity'].str.slice(1)\n",
    "df_dining['total amount of check'] = df_dining['total amount of check'].str.replace(',', '')\n",
    "\n"
   ]
  },
  {
   "cell_type": "code",
   "execution_count": 26,
   "id": "81775a25",
   "metadata": {},
   "outputs": [],
   "source": [
    "df_dining['total amount of check'] = df_dining['total amount of check'].astype(float)\n",
    "df_dining['gratuity'] = df_dining['gratuity'].astype(float)"
   ]
  },
  {
   "cell_type": "code",
   "execution_count": 27,
   "id": "65acd843",
   "metadata": {},
   "outputs": [
    {
     "name": "stdout",
     "output_type": "stream",
     "text": [
      "<class 'pandas.core.frame.DataFrame'>\n",
      "RangeIndex: 50 entries, 0 to 49\n",
      "Data columns (total 6 columns):\n",
      " #   Column                 Non-Null Count  Dtype         \n",
      "---  ------                 --------------  -----         \n",
      " 0   check                  50 non-null     int64         \n",
      " 1   date                   50 non-null     datetime64[ns]\n",
      " 2   party size             50 non-null     int64         \n",
      " 3   total items on check   50 non-null     int64         \n",
      " 4   total amount of check  50 non-null     float64       \n",
      " 5   gratuity               50 non-null     float64       \n",
      "dtypes: datetime64[ns](1), float64(2), int64(3)\n",
      "memory usage: 2.5 KB\n"
     ]
    }
   ],
   "source": [
    "df_dining.info()"
   ]
  },
  {
   "cell_type": "code",
   "execution_count": 28,
   "id": "1da1c267",
   "metadata": {},
   "outputs": [],
   "source": [
    "df_dining['day of the week'] = df_dining['date'].dt.strftime('%a')\n",
    "df_dining['day of the week num'] = df_dining['date'].dt.day_of_week"
   ]
  },
  {
   "cell_type": "code",
   "execution_count": 29,
   "id": "33958141",
   "metadata": {},
   "outputs": [],
   "source": [
    "df_dining_gratuity_over_time = df_dining.pivot_table(values=['gratuity', 'party size', 'total items on check'], \n",
    "                                                     index=['day of the week', 'day of the week num'], \n",
    "                                                     aggfunc='median')"
   ]
  },
  {
   "cell_type": "code",
   "execution_count": 30,
   "id": "3bb36259",
   "metadata": {},
   "outputs": [],
   "source": [
    "df_dining_gratuity_over_time.reset_index(inplace=True)"
   ]
  },
  {
   "cell_type": "code",
   "execution_count": 31,
   "id": "91155322",
   "metadata": {},
   "outputs": [],
   "source": [
    "df_dining_gratuity_over_time = df_dining_gratuity_over_time.set_index('day of the week num')"
   ]
  },
  {
   "cell_type": "code",
   "execution_count": 32,
   "id": "ba08c020",
   "metadata": {},
   "outputs": [],
   "source": [
    "df_dining_gratuity_over_time = df_dining_gratuity_over_time.sort_index()"
   ]
  },
  {
   "cell_type": "code",
   "execution_count": 33,
   "id": "2e7124cb",
   "metadata": {},
   "outputs": [],
   "source": [
    "df_dining_gratuity_over_time = df_dining_gratuity_over_time.set_index('day of the week')"
   ]
  },
  {
   "cell_type": "code",
   "execution_count": 34,
   "id": "130b04c4",
   "metadata": {},
   "outputs": [
    {
     "data": {
      "text/plain": [
       "<Axes: xlabel='day of the week'>"
      ]
     },
     "execution_count": 34,
     "metadata": {},
     "output_type": "execute_result"
    },
    {
     "data": {
      "image/png": "[encoded data removed]",
      "text/plain": [
       "<Figure size 640x480 with 1 Axes>"
      ]
     },
     "metadata": {},
     "output_type": "display_data"
    }
   ],
   "source": [
    "df_dining_gratuity_over_time.plot(kind='line')"
   ]
  },
  {
   "cell_type": "code",
   "execution_count": null,
   "id": "d2d0c2a5",
   "metadata": {},
   "outputs": [],
   "source": []
  }
 ],
 "metadata": {
  "kernelspec": {
   "display_name": "advcourse",
   "language": "python",
   "name": "python3"
  },
  "language_info": {
   "codemirror_mode": {
    "name": "ipython",
    "version": 3
   },
   "file_extension": ".py",
   "mimetype": "text/x-python",
   "name": "python",
   "nbconvert_exporter": "python",
   "pygments_lexer": "ipython3",
   "version": "3.12.9"
  }
 },
 "nbformat": 4,
 "nbformat_minor": 5
}
