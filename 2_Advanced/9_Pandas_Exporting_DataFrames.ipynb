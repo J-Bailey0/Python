{
 "cells": [
  {
   "cell_type": "code",
   "execution_count": 1,
   "id": "cce1dcb8",
   "metadata": {},
   "outputs": [],
   "source": [
    "# Importing Libraries\n",
    "import pandas as pd\n",
    "from datasets import load_dataset\n",
    "import matplotlib.pyplot as plt  \n",
    "\n",
    "# Loading Data\n",
    "dataset = load_dataset('lukebarousse/data_jobs')\n",
    "df = dataset['train'].to_pandas()\n",
    "\n",
    "# Data Cleanup\n",
    "df['job_posted_date'] = pd.to_datetime(df['job_posted_date'])"
   ]
  },
  {
   "cell_type": "code",
   "execution_count": 3,
   "id": "462da3c5",
   "metadata": {},
   "outputs": [],
   "source": [
    "df['job_posted_month'] = df['job_posted_date'].dt.strftime('%b')"
   ]
  },
  {
   "cell_type": "code",
   "execution_count": 6,
   "id": "5a0d7360",
   "metadata": {},
   "outputs": [],
   "source": [
    "months = df['job_posted_month'].unique()\n",
    "\n",
    "dict_months = {month: df[df['job_posted_month'] == month] for month in months}"
   ]
  },
  {
   "cell_type": "code",
   "execution_count": 8,
   "id": "99d0007d",
   "metadata": {},
   "outputs": [],
   "source": [
    "q1 = pd.concat ([dict_months['Jan'], dict_months['Feb'], dict_months['Mar']], ignore_index=True)"
   ]
  },
  {
   "cell_type": "code",
   "execution_count": null,
   "id": "3cfc3b7a",
   "metadata": {},
   "outputs": [
    {
     "name": "stderr",
     "output_type": "stream",
     "text": [
      "/var/folders/y6/0qzxmvxs4tj502z8bfcn0gy00000gn/T/ipykernel_44789/1784425230.py:1: UserWarning: to_clipboard in excel mode requires a single character separator.\n",
      "  q1.head().to_clipboard(sep =' , ')\n"
     ]
    }
   ],
   "source": [
    "# Copy the head of data to clipboard with the separator \" , \"\n",
    "q1.head().to_clipboard(sep =' , ')"
   ]
  },
  {
   "cell_type": "code",
   "execution_count": 11,
   "id": "4f4e553e",
   "metadata": {},
   "outputs": [],
   "source": [
    "q1.to_csv('quarter_1_jobs.csv')"
   ]
  },
  {
   "cell_type": "code",
   "execution_count": 12,
   "id": "777fd1bb",
   "metadata": {},
   "outputs": [],
   "source": [
    "q1.to_excel('quarter_1_job.xlsx')"
   ]
  }
 ],
 "metadata": {
  "kernelspec": {
   "display_name": "advcourse",
   "language": "python",
   "name": "python3"
  },
  "language_info": {
   "codemirror_mode": {
    "name": "ipython",
    "version": 3
   },
   "file_extension": ".py",
   "mimetype": "text/x-python",
   "name": "python",
   "nbconvert_exporter": "python",
   "pygments_lexer": "ipython3",
   "version": "3.12.9"
  }
 },
 "nbformat": 4,
 "nbformat_minor": 5
}
